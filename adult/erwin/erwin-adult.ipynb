{
 "cells": [
  {
   "cell_type": "markdown",
   "id": "loved-bacteria",
   "metadata": {},
   "source": [
    "# Libaries and Packages"
   ]
  },
  {
   "cell_type": "code",
   "execution_count": 1,
   "id": "superior-sherman",
   "metadata": {},
   "outputs": [],
   "source": [
    "# This Python 3 environment comes with many helpful analytics libraries installed\n",
    "# It is defined by the kaggle/python Docker image: https://github.com/kaggle/docker-python\n",
    "# For example, here's several helpful packages to load\n",
    "\n",
    "import numpy as np # linear algebra\n",
    "import pandas as pd # data processing, CSV file I/O (e.g. pd.read_csv)\n",
    "\n",
    "import matplotlib.pyplot as plt\n",
    "import matplotlib as mpl\n",
    "import seaborn as sns\n",
    "\n",
    "from sklearn.preprocessing import LabelEncoder\n",
    "\n",
    "from collections import defaultdict\n",
    "\n",
    "\"\"\"\n",
    "    Math Plot Library Configs\n",
    "\"\"\"\n",
    "\n",
    "%matplotlib inline\n",
    "mpl.style.use('seaborn')\n",
    "mpl.rcParams[\"figure.facecolor\"] ='#f6f5f5'\n",
    "\n",
    "\"\"\"\n",
    "    Pandas Configs\n",
    "\"\"\"\n",
    "\n",
    "# show all columns\n",
    "pd.set_option('max_columns', None)\n",
    "\n",
    "# show all rows\n",
    "pd.set_option(\"max_rows\", None)\n",
    "\n",
    "# Whether to print out the full DataFrame repr for wide DataFrames across multiple lines, \n",
    "# max_columns is still respected, but the output will wrap-around across multiple “pages” \n",
    "# if it’s width exceeds display.width. [default: True] [currently: True]\n",
    "pd.set_option('display.expand_frame_repr', False)\n",
    "\n",
    "\n",
    "\"\"\"\n",
    "    Seaborn Configs\n",
    "\"\"\"\n",
    "sns.set_palette(\"pastel\")"
   ]
  },
  {
   "cell_type": "markdown",
   "id": "overhead-title",
   "metadata": {},
   "source": [
    "# Notebook Setup\n",
    "Load CSV into Panda Dataframe, and clean up data"
   ]
  },
  {
   "cell_type": "code",
   "execution_count": 2,
   "id": "driving-cancellation",
   "metadata": {},
   "outputs": [
    {
     "name": "stdout",
     "output_type": "stream",
     "text": [
      "Raw Data Shape: (32561, 15)\n",
      "\n",
      "<class 'pandas.core.frame.DataFrame'>\n",
      "RangeIndex: 32561 entries, 0 to 32560\n",
      "Data columns (total 15 columns):\n",
      " #   Column            Non-Null Count  Dtype \n",
      "---  ------            --------------  ----- \n",
      " 0   age               32561 non-null  int64 \n",
      " 1   work class        32561 non-null  object\n",
      " 2   final weight      32561 non-null  int64 \n",
      " 3   education         32561 non-null  object\n",
      " 4   education number  32561 non-null  int64 \n",
      " 5   marital status    32561 non-null  object\n",
      " 6   occupation        32561 non-null  object\n",
      " 7   relationship      32561 non-null  object\n",
      " 8   race              32561 non-null  object\n",
      " 9   sex               32561 non-null  object\n",
      " 10  capital gain      32561 non-null  int64 \n",
      " 11  capital loss      32561 non-null  int64 \n",
      " 12  hours per week    32561 non-null  int64 \n",
      " 13  native country    32561 non-null  object\n",
      " 14  target            32561 non-null  object\n",
      "dtypes: int64(6), object(9)\n",
      "memory usage: 3.7+ MB\n"
     ]
    },
    {
     "data": {
      "text/html": [
       "<div>\n",
       "<style scoped>\n",
       "    .dataframe tbody tr th:only-of-type {\n",
       "        vertical-align: middle;\n",
       "    }\n",
       "\n",
       "    .dataframe tbody tr th {\n",
       "        vertical-align: top;\n",
       "    }\n",
       "\n",
       "    .dataframe thead th {\n",
       "        text-align: right;\n",
       "    }\n",
       "</style>\n",
       "<table border=\"1\" class=\"dataframe\">\n",
       "  <thead>\n",
       "    <tr style=\"text-align: right;\">\n",
       "      <th></th>\n",
       "      <th>age</th>\n",
       "      <th>final weight</th>\n",
       "      <th>education number</th>\n",
       "      <th>capital gain</th>\n",
       "      <th>capital loss</th>\n",
       "      <th>hours per week</th>\n",
       "    </tr>\n",
       "  </thead>\n",
       "  <tbody>\n",
       "    <tr>\n",
       "      <th>count</th>\n",
       "      <td>32561.000000</td>\n",
       "      <td>3.256100e+04</td>\n",
       "      <td>32561.000000</td>\n",
       "      <td>32561.000000</td>\n",
       "      <td>32561.000000</td>\n",
       "      <td>32561.000000</td>\n",
       "    </tr>\n",
       "    <tr>\n",
       "      <th>mean</th>\n",
       "      <td>38.581647</td>\n",
       "      <td>1.897784e+05</td>\n",
       "      <td>10.080679</td>\n",
       "      <td>1077.648844</td>\n",
       "      <td>87.303830</td>\n",
       "      <td>40.437456</td>\n",
       "    </tr>\n",
       "    <tr>\n",
       "      <th>std</th>\n",
       "      <td>13.640433</td>\n",
       "      <td>1.055500e+05</td>\n",
       "      <td>2.572720</td>\n",
       "      <td>7385.292085</td>\n",
       "      <td>402.960219</td>\n",
       "      <td>12.347429</td>\n",
       "    </tr>\n",
       "    <tr>\n",
       "      <th>min</th>\n",
       "      <td>17.000000</td>\n",
       "      <td>1.228500e+04</td>\n",
       "      <td>1.000000</td>\n",
       "      <td>0.000000</td>\n",
       "      <td>0.000000</td>\n",
       "      <td>1.000000</td>\n",
       "    </tr>\n",
       "    <tr>\n",
       "      <th>25%</th>\n",
       "      <td>28.000000</td>\n",
       "      <td>1.178270e+05</td>\n",
       "      <td>9.000000</td>\n",
       "      <td>0.000000</td>\n",
       "      <td>0.000000</td>\n",
       "      <td>40.000000</td>\n",
       "    </tr>\n",
       "    <tr>\n",
       "      <th>50%</th>\n",
       "      <td>37.000000</td>\n",
       "      <td>1.783560e+05</td>\n",
       "      <td>10.000000</td>\n",
       "      <td>0.000000</td>\n",
       "      <td>0.000000</td>\n",
       "      <td>40.000000</td>\n",
       "    </tr>\n",
       "    <tr>\n",
       "      <th>75%</th>\n",
       "      <td>48.000000</td>\n",
       "      <td>2.370510e+05</td>\n",
       "      <td>12.000000</td>\n",
       "      <td>0.000000</td>\n",
       "      <td>0.000000</td>\n",
       "      <td>45.000000</td>\n",
       "    </tr>\n",
       "    <tr>\n",
       "      <th>max</th>\n",
       "      <td>90.000000</td>\n",
       "      <td>1.484705e+06</td>\n",
       "      <td>16.000000</td>\n",
       "      <td>99999.000000</td>\n",
       "      <td>4356.000000</td>\n",
       "      <td>99.000000</td>\n",
       "    </tr>\n",
       "  </tbody>\n",
       "</table>\n",
       "</div>"
      ],
      "text/plain": [
       "                age  final weight  education number  capital gain  capital loss  hours per week\n",
       "count  32561.000000  3.256100e+04      32561.000000  32561.000000  32561.000000    32561.000000\n",
       "mean      38.581647  1.897784e+05         10.080679   1077.648844     87.303830       40.437456\n",
       "std       13.640433  1.055500e+05          2.572720   7385.292085    402.960219       12.347429\n",
       "min       17.000000  1.228500e+04          1.000000      0.000000      0.000000        1.000000\n",
       "25%       28.000000  1.178270e+05          9.000000      0.000000      0.000000       40.000000\n",
       "50%       37.000000  1.783560e+05         10.000000      0.000000      0.000000       40.000000\n",
       "75%       48.000000  2.370510e+05         12.000000      0.000000      0.000000       45.000000\n",
       "max       90.000000  1.484705e+06         16.000000  99999.000000   4356.000000       99.000000"
      ]
     },
     "metadata": {},
     "output_type": "display_data"
    },
    {
     "data": {
      "text/html": [
       "<div>\n",
       "<style scoped>\n",
       "    .dataframe tbody tr th:only-of-type {\n",
       "        vertical-align: middle;\n",
       "    }\n",
       "\n",
       "    .dataframe tbody tr th {\n",
       "        vertical-align: top;\n",
       "    }\n",
       "\n",
       "    .dataframe thead th {\n",
       "        text-align: right;\n",
       "    }\n",
       "</style>\n",
       "<table border=\"1\" class=\"dataframe\">\n",
       "  <thead>\n",
       "    <tr style=\"text-align: right;\">\n",
       "      <th></th>\n",
       "      <th>age</th>\n",
       "      <th>work class</th>\n",
       "      <th>final weight</th>\n",
       "      <th>education</th>\n",
       "      <th>education number</th>\n",
       "      <th>marital status</th>\n",
       "      <th>occupation</th>\n",
       "      <th>relationship</th>\n",
       "      <th>race</th>\n",
       "      <th>sex</th>\n",
       "      <th>capital gain</th>\n",
       "      <th>capital loss</th>\n",
       "      <th>hours per week</th>\n",
       "      <th>native country</th>\n",
       "      <th>target</th>\n",
       "    </tr>\n",
       "  </thead>\n",
       "  <tbody>\n",
       "    <tr>\n",
       "      <th>0</th>\n",
       "      <td>39</td>\n",
       "      <td>State-gov</td>\n",
       "      <td>77516</td>\n",
       "      <td>Bachelors</td>\n",
       "      <td>13</td>\n",
       "      <td>Never-married</td>\n",
       "      <td>Adm-clerical</td>\n",
       "      <td>Not-in-family</td>\n",
       "      <td>White</td>\n",
       "      <td>Male</td>\n",
       "      <td>2174</td>\n",
       "      <td>0</td>\n",
       "      <td>40</td>\n",
       "      <td>United-States</td>\n",
       "      <td>&lt;=50K</td>\n",
       "    </tr>\n",
       "    <tr>\n",
       "      <th>1</th>\n",
       "      <td>50</td>\n",
       "      <td>Self-emp-not-inc</td>\n",
       "      <td>83311</td>\n",
       "      <td>Bachelors</td>\n",
       "      <td>13</td>\n",
       "      <td>Married-civ-spouse</td>\n",
       "      <td>Exec-managerial</td>\n",
       "      <td>Husband</td>\n",
       "      <td>White</td>\n",
       "      <td>Male</td>\n",
       "      <td>0</td>\n",
       "      <td>0</td>\n",
       "      <td>13</td>\n",
       "      <td>United-States</td>\n",
       "      <td>&lt;=50K</td>\n",
       "    </tr>\n",
       "    <tr>\n",
       "      <th>2</th>\n",
       "      <td>38</td>\n",
       "      <td>Private</td>\n",
       "      <td>215646</td>\n",
       "      <td>HS-grad</td>\n",
       "      <td>9</td>\n",
       "      <td>Divorced</td>\n",
       "      <td>Handlers-cleaners</td>\n",
       "      <td>Not-in-family</td>\n",
       "      <td>White</td>\n",
       "      <td>Male</td>\n",
       "      <td>0</td>\n",
       "      <td>0</td>\n",
       "      <td>40</td>\n",
       "      <td>United-States</td>\n",
       "      <td>&lt;=50K</td>\n",
       "    </tr>\n",
       "    <tr>\n",
       "      <th>3</th>\n",
       "      <td>53</td>\n",
       "      <td>Private</td>\n",
       "      <td>234721</td>\n",
       "      <td>11th</td>\n",
       "      <td>7</td>\n",
       "      <td>Married-civ-spouse</td>\n",
       "      <td>Handlers-cleaners</td>\n",
       "      <td>Husband</td>\n",
       "      <td>Black</td>\n",
       "      <td>Male</td>\n",
       "      <td>0</td>\n",
       "      <td>0</td>\n",
       "      <td>40</td>\n",
       "      <td>United-States</td>\n",
       "      <td>&lt;=50K</td>\n",
       "    </tr>\n",
       "    <tr>\n",
       "      <th>4</th>\n",
       "      <td>28</td>\n",
       "      <td>Private</td>\n",
       "      <td>338409</td>\n",
       "      <td>Bachelors</td>\n",
       "      <td>13</td>\n",
       "      <td>Married-civ-spouse</td>\n",
       "      <td>Prof-specialty</td>\n",
       "      <td>Wife</td>\n",
       "      <td>Black</td>\n",
       "      <td>Female</td>\n",
       "      <td>0</td>\n",
       "      <td>0</td>\n",
       "      <td>40</td>\n",
       "      <td>Cuba</td>\n",
       "      <td>&lt;=50K</td>\n",
       "    </tr>\n",
       "  </tbody>\n",
       "</table>\n",
       "</div>"
      ],
      "text/plain": [
       "   age        work class  final weight  education  education number      marital status         occupation   relationship   race     sex  capital gain  capital loss  hours per week native country target\n",
       "0   39         State-gov         77516  Bachelors                13       Never-married       Adm-clerical  Not-in-family  White    Male          2174             0              40  United-States  <=50K\n",
       "1   50  Self-emp-not-inc         83311  Bachelors                13  Married-civ-spouse    Exec-managerial        Husband  White    Male             0             0              13  United-States  <=50K\n",
       "2   38           Private        215646    HS-grad                 9            Divorced  Handlers-cleaners  Not-in-family  White    Male             0             0              40  United-States  <=50K\n",
       "3   53           Private        234721       11th                 7  Married-civ-spouse  Handlers-cleaners        Husband  Black    Male             0             0              40  United-States  <=50K\n",
       "4   28           Private        338409  Bachelors                13  Married-civ-spouse     Prof-specialty           Wife  Black  Female             0             0              40           Cuba  <=50K"
      ]
     },
     "metadata": {},
     "output_type": "display_data"
    }
   ],
   "source": [
    "raw = pd.read_csv('../adult_data.csv', index_col=False, skipinitialspace=True)\n",
    "\n",
    "print('Raw Data Shape:',raw.shape)\n",
    "print()\n",
    "raw.info()\n",
    "display(raw.describe())\n",
    "display(raw.head())"
   ]
  },
  {
   "cell_type": "code",
   "execution_count": 3,
   "id": "recognized-burden",
   "metadata": {},
   "outputs": [
    {
     "name": "stdout",
     "output_type": "stream",
     "text": [
      "Test Raw Data Shape: (16281, 15)\n",
      "\n",
      "<class 'pandas.core.frame.DataFrame'>\n",
      "RangeIndex: 16281 entries, 0 to 16280\n",
      "Data columns (total 15 columns):\n",
      " #   Column            Non-Null Count  Dtype \n",
      "---  ------            --------------  ----- \n",
      " 0   age               16281 non-null  int64 \n",
      " 1   work class        16281 non-null  object\n",
      " 2   final weight      16281 non-null  int64 \n",
      " 3   education         16281 non-null  object\n",
      " 4   education number  16281 non-null  int64 \n",
      " 5   marital status    16281 non-null  object\n",
      " 6   occupation        16281 non-null  object\n",
      " 7   relationship      16281 non-null  object\n",
      " 8   race              16281 non-null  object\n",
      " 9   sex               16281 non-null  object\n",
      " 10  capital gain      16281 non-null  int64 \n",
      " 11  capital loss      16281 non-null  int64 \n",
      " 12  hours per week    16281 non-null  int64 \n",
      " 13  native country    16281 non-null  object\n",
      " 14  target            16281 non-null  object\n",
      "dtypes: int64(6), object(9)\n",
      "memory usage: 1.9+ MB\n"
     ]
    },
    {
     "data": {
      "text/html": [
       "<div>\n",
       "<style scoped>\n",
       "    .dataframe tbody tr th:only-of-type {\n",
       "        vertical-align: middle;\n",
       "    }\n",
       "\n",
       "    .dataframe tbody tr th {\n",
       "        vertical-align: top;\n",
       "    }\n",
       "\n",
       "    .dataframe thead th {\n",
       "        text-align: right;\n",
       "    }\n",
       "</style>\n",
       "<table border=\"1\" class=\"dataframe\">\n",
       "  <thead>\n",
       "    <tr style=\"text-align: right;\">\n",
       "      <th></th>\n",
       "      <th>age</th>\n",
       "      <th>final weight</th>\n",
       "      <th>education number</th>\n",
       "      <th>capital gain</th>\n",
       "      <th>capital loss</th>\n",
       "      <th>hours per week</th>\n",
       "    </tr>\n",
       "  </thead>\n",
       "  <tbody>\n",
       "    <tr>\n",
       "      <th>count</th>\n",
       "      <td>16281.000000</td>\n",
       "      <td>1.628100e+04</td>\n",
       "      <td>16281.000000</td>\n",
       "      <td>16281.000000</td>\n",
       "      <td>16281.000000</td>\n",
       "      <td>16281.000000</td>\n",
       "    </tr>\n",
       "    <tr>\n",
       "      <th>mean</th>\n",
       "      <td>38.767459</td>\n",
       "      <td>1.894357e+05</td>\n",
       "      <td>10.072907</td>\n",
       "      <td>1081.905104</td>\n",
       "      <td>87.899269</td>\n",
       "      <td>40.392236</td>\n",
       "    </tr>\n",
       "    <tr>\n",
       "      <th>std</th>\n",
       "      <td>13.849187</td>\n",
       "      <td>1.057149e+05</td>\n",
       "      <td>2.567545</td>\n",
       "      <td>7583.935968</td>\n",
       "      <td>403.105286</td>\n",
       "      <td>12.479332</td>\n",
       "    </tr>\n",
       "    <tr>\n",
       "      <th>min</th>\n",
       "      <td>17.000000</td>\n",
       "      <td>1.349200e+04</td>\n",
       "      <td>1.000000</td>\n",
       "      <td>0.000000</td>\n",
       "      <td>0.000000</td>\n",
       "      <td>1.000000</td>\n",
       "    </tr>\n",
       "    <tr>\n",
       "      <th>25%</th>\n",
       "      <td>28.000000</td>\n",
       "      <td>1.167360e+05</td>\n",
       "      <td>9.000000</td>\n",
       "      <td>0.000000</td>\n",
       "      <td>0.000000</td>\n",
       "      <td>40.000000</td>\n",
       "    </tr>\n",
       "    <tr>\n",
       "      <th>50%</th>\n",
       "      <td>37.000000</td>\n",
       "      <td>1.778310e+05</td>\n",
       "      <td>10.000000</td>\n",
       "      <td>0.000000</td>\n",
       "      <td>0.000000</td>\n",
       "      <td>40.000000</td>\n",
       "    </tr>\n",
       "    <tr>\n",
       "      <th>75%</th>\n",
       "      <td>48.000000</td>\n",
       "      <td>2.383840e+05</td>\n",
       "      <td>12.000000</td>\n",
       "      <td>0.000000</td>\n",
       "      <td>0.000000</td>\n",
       "      <td>45.000000</td>\n",
       "    </tr>\n",
       "    <tr>\n",
       "      <th>max</th>\n",
       "      <td>90.000000</td>\n",
       "      <td>1.490400e+06</td>\n",
       "      <td>16.000000</td>\n",
       "      <td>99999.000000</td>\n",
       "      <td>3770.000000</td>\n",
       "      <td>99.000000</td>\n",
       "    </tr>\n",
       "  </tbody>\n",
       "</table>\n",
       "</div>"
      ],
      "text/plain": [
       "                age  final weight  education number  capital gain  capital loss  hours per week\n",
       "count  16281.000000  1.628100e+04      16281.000000  16281.000000  16281.000000    16281.000000\n",
       "mean      38.767459  1.894357e+05         10.072907   1081.905104     87.899269       40.392236\n",
       "std       13.849187  1.057149e+05          2.567545   7583.935968    403.105286       12.479332\n",
       "min       17.000000  1.349200e+04          1.000000      0.000000      0.000000        1.000000\n",
       "25%       28.000000  1.167360e+05          9.000000      0.000000      0.000000       40.000000\n",
       "50%       37.000000  1.778310e+05         10.000000      0.000000      0.000000       40.000000\n",
       "75%       48.000000  2.383840e+05         12.000000      0.000000      0.000000       45.000000\n",
       "max       90.000000  1.490400e+06         16.000000  99999.000000   3770.000000       99.000000"
      ]
     },
     "metadata": {},
     "output_type": "display_data"
    },
    {
     "data": {
      "text/html": [
       "<div>\n",
       "<style scoped>\n",
       "    .dataframe tbody tr th:only-of-type {\n",
       "        vertical-align: middle;\n",
       "    }\n",
       "\n",
       "    .dataframe tbody tr th {\n",
       "        vertical-align: top;\n",
       "    }\n",
       "\n",
       "    .dataframe thead th {\n",
       "        text-align: right;\n",
       "    }\n",
       "</style>\n",
       "<table border=\"1\" class=\"dataframe\">\n",
       "  <thead>\n",
       "    <tr style=\"text-align: right;\">\n",
       "      <th></th>\n",
       "      <th>age</th>\n",
       "      <th>work class</th>\n",
       "      <th>final weight</th>\n",
       "      <th>education</th>\n",
       "      <th>education number</th>\n",
       "      <th>marital status</th>\n",
       "      <th>occupation</th>\n",
       "      <th>relationship</th>\n",
       "      <th>race</th>\n",
       "      <th>sex</th>\n",
       "      <th>capital gain</th>\n",
       "      <th>capital loss</th>\n",
       "      <th>hours per week</th>\n",
       "      <th>native country</th>\n",
       "      <th>target</th>\n",
       "    </tr>\n",
       "  </thead>\n",
       "  <tbody>\n",
       "    <tr>\n",
       "      <th>0</th>\n",
       "      <td>25</td>\n",
       "      <td>Private</td>\n",
       "      <td>226802</td>\n",
       "      <td>11th</td>\n",
       "      <td>7</td>\n",
       "      <td>Never-married</td>\n",
       "      <td>Machine-op-inspct</td>\n",
       "      <td>Own-child</td>\n",
       "      <td>Black</td>\n",
       "      <td>Male</td>\n",
       "      <td>0</td>\n",
       "      <td>0</td>\n",
       "      <td>40</td>\n",
       "      <td>United-States</td>\n",
       "      <td>&lt;=50K.</td>\n",
       "    </tr>\n",
       "    <tr>\n",
       "      <th>1</th>\n",
       "      <td>38</td>\n",
       "      <td>Private</td>\n",
       "      <td>89814</td>\n",
       "      <td>HS-grad</td>\n",
       "      <td>9</td>\n",
       "      <td>Married-civ-spouse</td>\n",
       "      <td>Farming-fishing</td>\n",
       "      <td>Husband</td>\n",
       "      <td>White</td>\n",
       "      <td>Male</td>\n",
       "      <td>0</td>\n",
       "      <td>0</td>\n",
       "      <td>50</td>\n",
       "      <td>United-States</td>\n",
       "      <td>&lt;=50K.</td>\n",
       "    </tr>\n",
       "    <tr>\n",
       "      <th>2</th>\n",
       "      <td>28</td>\n",
       "      <td>Local-gov</td>\n",
       "      <td>336951</td>\n",
       "      <td>Assoc-acdm</td>\n",
       "      <td>12</td>\n",
       "      <td>Married-civ-spouse</td>\n",
       "      <td>Protective-serv</td>\n",
       "      <td>Husband</td>\n",
       "      <td>White</td>\n",
       "      <td>Male</td>\n",
       "      <td>0</td>\n",
       "      <td>0</td>\n",
       "      <td>40</td>\n",
       "      <td>United-States</td>\n",
       "      <td>&gt;50K.</td>\n",
       "    </tr>\n",
       "    <tr>\n",
       "      <th>3</th>\n",
       "      <td>44</td>\n",
       "      <td>Private</td>\n",
       "      <td>160323</td>\n",
       "      <td>Some-college</td>\n",
       "      <td>10</td>\n",
       "      <td>Married-civ-spouse</td>\n",
       "      <td>Machine-op-inspct</td>\n",
       "      <td>Husband</td>\n",
       "      <td>Black</td>\n",
       "      <td>Male</td>\n",
       "      <td>7688</td>\n",
       "      <td>0</td>\n",
       "      <td>40</td>\n",
       "      <td>United-States</td>\n",
       "      <td>&gt;50K.</td>\n",
       "    </tr>\n",
       "    <tr>\n",
       "      <th>4</th>\n",
       "      <td>18</td>\n",
       "      <td>?</td>\n",
       "      <td>103497</td>\n",
       "      <td>Some-college</td>\n",
       "      <td>10</td>\n",
       "      <td>Never-married</td>\n",
       "      <td>?</td>\n",
       "      <td>Own-child</td>\n",
       "      <td>White</td>\n",
       "      <td>Female</td>\n",
       "      <td>0</td>\n",
       "      <td>0</td>\n",
       "      <td>30</td>\n",
       "      <td>United-States</td>\n",
       "      <td>&lt;=50K.</td>\n",
       "    </tr>\n",
       "  </tbody>\n",
       "</table>\n",
       "</div>"
      ],
      "text/plain": [
       "   age work class  final weight     education  education number      marital status         occupation relationship   race     sex  capital gain  capital loss  hours per week native country  target\n",
       "0   25    Private        226802          11th                 7       Never-married  Machine-op-inspct    Own-child  Black    Male             0             0              40  United-States  <=50K.\n",
       "1   38    Private         89814       HS-grad                 9  Married-civ-spouse    Farming-fishing      Husband  White    Male             0             0              50  United-States  <=50K.\n",
       "2   28  Local-gov        336951    Assoc-acdm                12  Married-civ-spouse    Protective-serv      Husband  White    Male             0             0              40  United-States   >50K.\n",
       "3   44    Private        160323  Some-college                10  Married-civ-spouse  Machine-op-inspct      Husband  Black    Male          7688             0              40  United-States   >50K.\n",
       "4   18          ?        103497  Some-college                10       Never-married                  ?    Own-child  White  Female             0             0              30  United-States  <=50K."
      ]
     },
     "metadata": {},
     "output_type": "display_data"
    }
   ],
   "source": [
    "raw_test = pd.read_csv('../adult_test.csv', index_col=False, skipinitialspace=True)\n",
    "\n",
    "print('Test Raw Data Shape:', raw_test.shape)\n",
    "print()\n",
    "raw_test.info()\n",
    "display(raw_test.describe())\n",
    "display(raw_test.head())"
   ]
  },
  {
   "cell_type": "markdown",
   "id": "future-mentor",
   "metadata": {},
   "source": [
    "# Data Cleaning"
   ]
  },
  {
   "cell_type": "code",
   "execution_count": 4,
   "id": "upper-withdrawal",
   "metadata": {},
   "outputs": [
    {
     "name": "stdout",
     "output_type": "stream",
     "text": [
      "Target Column:\n"
     ]
    },
    {
     "data": {
      "text/plain": [
       "Index(['target'], dtype='object')"
      ]
     },
     "metadata": {},
     "output_type": "display_data"
    },
    {
     "name": "stdout",
     "output_type": "stream",
     "text": [
      "\n"
     ]
    }
   ],
   "source": [
    "df = raw.copy(deep=True)\n",
    "\n",
    "TARGET_COLUMN = pd.Index(['target'])\n",
    "CAT_COLUMNS = raw.select_dtypes(exclude=np.number).columns.drop(TARGET_COLUMN)\n",
    "CON_COLUMNS = raw.select_dtypes(include=np.number).columns\n",
    "\n",
    "print(\"Target Column:\")\n",
    "display(TARGET_COLUMN)\n",
    "print()"
   ]
  },
  {
   "cell_type": "markdown",
   "id": "historical-gamma",
   "metadata": {},
   "source": [
    "## Categorical Columns\n",
    "It seems like some of the `Native Country` column has a bit of typos and misclassification. Let us fix that in advance."
   ]
  },
  {
   "cell_type": "code",
   "execution_count": 5,
   "id": "crude-atlas",
   "metadata": {},
   "outputs": [
    {
     "name": "stdout",
     "output_type": "stream",
     "text": [
      "Categorical Columns:\n"
     ]
    },
    {
     "data": {
      "text/plain": [
       "Index(['work class', 'education', 'marital status', 'occupation',\n",
       "       'relationship', 'race', 'sex', 'native country'],\n",
       "      dtype='object')"
      ]
     },
     "metadata": {},
     "output_type": "display_data"
    },
    {
     "name": "stdout",
     "output_type": "stream",
     "text": [
      "\n",
      "Catagorical Column's Values\n",
      "\n",
      "------- columns work class -------\n",
      "There are 9 Unique values\n",
      "They are: ['State-gov' 'Self-emp-not-inc' 'Private' 'Federal-gov' 'Local-gov' '?'\n",
      " 'Self-emp-inc' 'Without-pay' 'Never-worked']\n",
      "\n",
      "------- columns education -------\n",
      "There are 16 Unique values\n",
      "They are: ['Bachelors' 'HS-grad' '11th' 'Masters' '9th' 'Some-college' 'Assoc-acdm'\n",
      " 'Assoc-voc' '7th-8th' 'Doctorate' 'Prof-school' '5th-6th' '10th'\n",
      " '1st-4th' 'Preschool' '12th']\n",
      "\n",
      "------- columns marital status -------\n",
      "There are 7 Unique values\n",
      "They are: ['Never-married' 'Married-civ-spouse' 'Divorced' 'Married-spouse-absent'\n",
      " 'Separated' 'Married-AF-spouse' 'Widowed']\n",
      "\n",
      "------- columns occupation -------\n",
      "There are 15 Unique values\n",
      "They are: ['Adm-clerical' 'Exec-managerial' 'Handlers-cleaners' 'Prof-specialty'\n",
      " 'Other-service' 'Sales' 'Craft-repair' 'Transport-moving'\n",
      " 'Farming-fishing' 'Machine-op-inspct' 'Tech-support' '?'\n",
      " 'Protective-serv' 'Armed-Forces' 'Priv-house-serv']\n",
      "\n",
      "------- columns relationship -------\n",
      "There are 6 Unique values\n",
      "They are: ['Not-in-family' 'Husband' 'Wife' 'Own-child' 'Unmarried' 'Other-relative']\n",
      "\n",
      "------- columns race -------\n",
      "There are 5 Unique values\n",
      "They are: ['White' 'Black' 'Asian-Pac-Islander' 'Amer-Indian-Eskimo' 'Other']\n",
      "\n",
      "------- columns sex -------\n",
      "There are 2 Unique values\n",
      "They are: ['Male' 'Female']\n",
      "\n",
      "------- columns native country -------\n",
      "There are 42 Unique values\n",
      "They are: ['United-States' 'Cuba' 'Jamaica' 'India' '?' 'Mexico' 'South'\n",
      " 'Puerto-Rico' 'Honduras' 'England' 'Canada' 'Germany' 'Iran'\n",
      " 'Philippines' 'Italy' 'Poland' 'Columbia' 'Cambodia' 'Thailand' 'Ecuador'\n",
      " 'Laos' 'Taiwan' 'Haiti' 'Portugal' 'Dominican-Republic' 'El-Salvador'\n",
      " 'France' 'Guatemala' 'China' 'Japan' 'Yugoslavia' 'Peru'\n",
      " 'Outlying-US(Guam-USVI-etc)' 'Scotland' 'Trinadad&Tobago' 'Greece'\n",
      " 'Nicaragua' 'Vietnam' 'Hong' 'Ireland' 'Hungary' 'Holand-Netherlands']\n",
      "\n",
      "------- columns target -------\n",
      "There are 2 Unique values\n",
      "They are: ['<=50K' '>50K']\n",
      "\n"
     ]
    }
   ],
   "source": [
    "print(\"Categorical Columns:\")\n",
    "display(CAT_COLUMNS)\n",
    "print()\n",
    "\n",
    "\n",
    "print('Catagorical Column\\'s Values\\n')\n",
    "for col in df.select_dtypes(exclude=np.number).columns:\n",
    "    unique = raw[col].unique()\n",
    "    print('-'*7,f'columns {col}','-'*7)\n",
    "    print(f'There are {len(unique)} Unique values')\n",
    "    print(f'They are: {unique}\\n')"
   ]
  },
  {
   "cell_type": "code",
   "execution_count": 6,
   "id": "returning-catalyst",
   "metadata": {},
   "outputs": [],
   "source": [
    "# replace all '?' with the word 'Unknown'\n",
    "# df.replace(to_replace=['?'], value='Unknown', inplace = True)\n",
    "\n",
    "# fix all typos in countries\n",
    "df['native country'].replace(to_replace=['South'], value='South Korea', inplace=True)\n",
    "df['native country'].replace(to_replace=['Hong'], value='Hong Kong', inplace=True)\n",
    "\n",
    "# merge all 'Outlying-US(Guam-USVI-etc)' terittories together\n",
    "# https://www.aacrao.org/edge/country/u.s.-territories-and-minor-outlying-islands\n",
    "df['native country'].replace(to_replace=['Puerto-Rico'], value='Outlying-US(Guam-USVI-etc)', inplace=True)\n",
    "\n",
    "# Scotland is a part of UK\n",
    "df['native country'].replace(to_replace=['Scotland'], value='United-Kingdom', inplace=True)"
   ]
  },
  {
   "cell_type": "markdown",
   "id": "instrumental-affiliation",
   "metadata": {},
   "source": [
    "## Continious Columns\n",
    "It seems like there is no `NaN` / negative values on the numeric values.\n",
    "\n",
    "So, it is safe to assume that we don't have to manipulate the numeric columns. "
   ]
  },
  {
   "cell_type": "code",
   "execution_count": 7,
   "id": "endangered-interference",
   "metadata": {},
   "outputs": [
    {
     "name": "stdout",
     "output_type": "stream",
     "text": [
      "Continious Columns:\n"
     ]
    },
    {
     "data": {
      "text/plain": [
       "Index(['age', 'final weight', 'education number', 'capital gain',\n",
       "       'capital loss', 'hours per week'],\n",
       "      dtype='object')"
      ]
     },
     "metadata": {},
     "output_type": "display_data"
    },
    {
     "name": "stdout",
     "output_type": "stream",
     "text": [
      "\n",
      "Does any of continious columns contain NaN:\n",
      "False\n",
      "\n",
      "Does any of continious columns contain negative value:\n",
      "False\n"
     ]
    }
   ],
   "source": [
    "print(\"Continious Columns:\")\n",
    "display(CON_COLUMNS)\n",
    "print()\n",
    "\n",
    "print(f'Does any of continious columns contain NaN:\\n{df[CON_COLUMNS].isnull().values.any()}\\n')\n",
    "print(f'Does any of continious columns contain negative value:\\n{(df[CON_COLUMNS].values < 0).any()}')"
   ]
  },
  {
   "cell_type": "markdown",
   "id": "medical-calendar",
   "metadata": {},
   "source": [
    "## Data Exploration"
   ]
  },
  {
   "cell_type": "code",
   "execution_count": 8,
   "id": "dying-source",
   "metadata": {},
   "outputs": [],
   "source": [
    "def to_numeric(df):\n",
    "    d = defaultdict(LabelEncoder)\n",
    "    return df.apply(lambda x: d[x.name].fit_transform(x))"
   ]
  },
  {
   "cell_type": "markdown",
   "id": "russian-denver",
   "metadata": {},
   "source": [
    "### Categorical Columns\n",
    "From the heatmap below, we can conclude that:\n",
    "- TODO: Fill me up"
   ]
  },
  {
   "cell_type": "code",
   "execution_count": 9,
   "id": "color-associate",
   "metadata": {},
   "outputs": [
    {
     "name": "stdout",
     "output_type": "stream",
     "text": [
      "Pearson's Correlation\n"
     ]
    },
    {
     "data": {
      "text/plain": [
       "<AxesSubplot:>"
      ]
     },
     "execution_count": 9,
     "metadata": {},
     "output_type": "execute_result"
    },
    {
     "data": {
      "image/png": "[encoded data removed]",
      "text/plain": [
       "<Figure size 1296x720 with 2 Axes>"
      ]
     },
     "metadata": {},
     "output_type": "display_data"
    }
   ],
   "source": [
    "print('Pearson\\'s Correlation')\n",
    "plt.figure(figsize=(18,10))\n",
    "\n",
    "cat_cols = to_numeric(df[CAT_COLUMNS.append(TARGET_COLUMN)])\n",
    "sns.heatmap(cat_cols.corr(),annot=True)"
   ]
  },
  {
   "cell_type": "markdown",
   "id": "refined-domain",
   "metadata": {},
   "source": [
    "### Continuous Columns\n",
    "From the heatmap below, we can conclude that:\n",
    "- TODO: Fill me up\n",
    "\n",
    "Other intersting findings:\n",
    "- Educated folks tend to have longer working hours\n",
    "- Educated folks also have the tendency to have more `capital gain`"
   ]
  },
  {
   "cell_type": "code",
   "execution_count": 10,
   "id": "genetic-belief",
   "metadata": {},
   "outputs": [
    {
     "name": "stdout",
     "output_type": "stream",
     "text": [
      "Pearson's Correlation\n"
     ]
    },
    {
     "data": {
      "image/png": "[encoded data removed]",
      "text/plain": [
       "<Figure size 1296x720 with 2 Axes>"
      ]
     },
     "metadata": {},
     "output_type": "display_data"
    }
   ],
   "source": [
    "print('Pearson\\'s Correlation')\n",
    "plt.figure(figsize=(18,10))\n",
    "\n",
    "cat_cols = to_numeric(df[CON_COLUMNS.append(TARGET_COLUMN)])\n",
    "sns.heatmap(cat_cols.corr(),annot=True)\n",
    "\n",
    "plt.title(f'Continious Columns VS Target Plot')\n",
    "plt.show()"
   ]
  },
  {
   "cell_type": "markdown",
   "id": "medieval-worst",
   "metadata": {},
   "source": [
    "## Data Visualiazation\n",
    "\n",
    "Columns:\n",
    "- age: the age of the responder\n",
    "- workclass: the type of work fo the responder\n",
    "- final weight: the number of units in the target population that the responding unit represents.\n",
    "- education: education level (in words)\n",
    "- education-num: the number of years of education in total\n",
    "- marital-status: self-explanatory\n",
    "- occupation: self-explanatory\n",
    "- relationship: the responder's role in the family\n",
    "- race: self-explanatory\n",
    "- sex: self-explanatory\n",
    "- capital-gain: income from investmenet (other than wage / salary)\n",
    "- capital-loss: loss due to investment\n",
    "- hours-per-week: self-explanatory\n",
    "- native-country: self-explanatory\n",
    "- target: the expected prediction outcome"
   ]
  },
  {
   "cell_type": "code",
   "execution_count": 11,
   "id": "impressive-crown",
   "metadata": {},
   "outputs": [
    {
     "data": {
      "image/png": "[encoded data removed]",
      "text/plain": [
       "<Figure size 1224x1080 with 1 Axes>"
      ]
     },
     "metadata": {},
     "output_type": "display_data"
    }
   ],
   "source": [
    "fig, axs = plt.subplots(1, 1, figsize=(17, 15))\n",
    "sns.histplot(data=df, x=\"age\", hue=\"target\", multiple=\"stack\", ax=axs)\n",
    "plt.title(f'Age VS Target Count')\n",
    "plt.show()"
   ]
  },
  {
   "cell_type": "markdown",
   "id": "dynamic-newman",
   "metadata": {},
   "source": [
    "## Relationship Graph"
   ]
  },
  {
   "cell_type": "code",
   "execution_count": null,
   "id": "becoming-passage",
   "metadata": {},
   "outputs": [],
   "source": []
  }
 ],
 "metadata": {
  "kernelspec": {
   "display_name": "Python 3",
   "language": "python",
   "name": "python3"
  },
  "language_info": {
   "codemirror_mode": {
    "name": "ipython",
    "version": 3
   },
   "file_extension": ".py",
   "mimetype": "text/x-python",
   "name": "python",
   "nbconvert_exporter": "python",
   "pygments_lexer": "ipython3",
   "version": "3.8.0"
  }
 },
 "nbformat": 4,
 "nbformat_minor": 5
}
